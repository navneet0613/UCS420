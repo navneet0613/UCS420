{
  "nbformat": 4,
  "nbformat_minor": 0,
  "metadata": {
    "colab": {
      "provenance": [],
      "authorship_tag": "ABX9TyNFYQ3Ln2R+iyY2UxxisvIr",
      "include_colab_link": true
    },
    "kernelspec": {
      "name": "python3",
      "display_name": "Python 3"
    },
    "language_info": {
      "name": "python"
    }
  },
  "cells": [
    {
      "cell_type": "markdown",
      "metadata": {
        "id": "view-in-github",
        "colab_type": "text"
      },
      "source": [
        "<a href=\"https://colab.research.google.com/github/navneet0613/UCS712/blob/main/Assignment_6.ipynb\" target=\"_parent\"><img src=\"https://colab.research.google.com/assets/colab-badge.svg\" alt=\"Open In Colab\"/></a>"
      ]
    },
    {
      "cell_type": "markdown",
      "source": [
        "Assingment 6.1: WAP using function that add all odd numbers from 1 to n, n is given by the user.\n",
        "\n"
      ],
      "metadata": {
        "id": "UZd73p36fGk2"
      }
    },
    {
      "cell_type": "code",
      "execution_count": 3,
      "metadata": {
        "colab": {
          "base_uri": "https://localhost:8080/"
        },
        "id": "DVzQFjGyfDYo",
        "outputId": "2aa72f48-0781-4782-d43b-6c4a1dca72d0"
      },
      "outputs": [
        {
          "output_type": "stream",
          "name": "stdout",
          "text": [
            "Enter a number: 20\n",
            "100\n"
          ]
        }
      ],
      "source": [
        "#using function add all odd numbers from 1 to n, n is given by user\n",
        "a = int(input(\"Enter a number: \"))\n",
        "def oddAdd(n):\n",
        "  sum = 0;\n",
        "  if i%2!=0:\n",
        "    sum+=i\n",
        "  return sum\n",
        "\n",
        "print(sum)"
      ]
    },
    {
      "cell_type": "markdown",
      "source": [
        "Assingment 6.2: WAP using function that add all prime numbers from 1 to n, n given by the user."
      ],
      "metadata": {
        "id": "X0pgaGzUfy1-"
      }
    },
    {
      "cell_type": "code",
      "source": [
        "n = int(input(\"Enter a number: \"))\n",
        "def addPrime(n):\n",
        "  sum = 0\n",
        "  for i in range(2,n//2+1):\n",
        "    if n%i!=0:\n",
        "      sum+=i\n",
        "  return sum\n",
        "print(sum)\n"
      ],
      "metadata": {
        "colab": {
          "base_uri": "https://localhost:8080/"
        },
        "id": "6oJzz_n2fzVV",
        "outputId": "5a3717f4-4e00-43f9-c3b4-f7e40190306c"
      },
      "execution_count": 7,
      "outputs": [
        {
          "output_type": "stream",
          "name": "stdout",
          "text": [
            "Enter a number: 20\n",
            "100\n"
          ]
        }
      ]
    }
  ]
}