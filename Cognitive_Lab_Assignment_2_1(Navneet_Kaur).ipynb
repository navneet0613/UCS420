{
  "nbformat": 4,
  "nbformat_minor": 0,
  "metadata": {
    "colab": {
      "provenance": [],
      "authorship_tag": "ABX9TyO/o2eDjwbVY44CGc7GIfv4",
      "include_colab_link": true
    },
    "kernelspec": {
      "name": "python3",
      "display_name": "Python 3"
    },
    "language_info": {
      "name": "python"
    }
  },
  "cells": [
    {
      "cell_type": "markdown",
      "metadata": {
        "id": "view-in-github",
        "colab_type": "text"
      },
      "source": [
        "<a href=\"https://colab.research.google.com/github/navneet0613/UCS420/blob/main/Cognitive_Lab_Assignment_2_1(Navneet_Kaur).ipynb\" target=\"_parent\"><img src=\"https://colab.research.google.com/assets/colab-badge.svg\" alt=\"Open In Colab\"/></a>"
      ]
    },
    {
      "cell_type": "markdown",
      "source": [
        "Navneet Kaur (102497009)\n"
      ],
      "metadata": {
        "id": "BQDxhhOPFxB0"
      }
    },
    {
      "cell_type": "markdown",
      "source": [
        "1. Create a List L that is defined as= [10, 20, 30, 40, 50, 60, 70, 80].\n",
        "i. WAP to add 200 and 300 to L.\n",
        "ii. WAP to remove 10 and 30 from L.\n",
        "iii. WAP to sort L in ascending order.\n",
        "iv. WAP to sort L in descending order."
      ],
      "metadata": {
        "id": "l01qhPx1ZNZp"
      }
    },
    {
      "cell_type": "code",
      "execution_count": null,
      "metadata": {
        "colab": {
          "base_uri": "https://localhost:8080/"
        },
        "id": "rCzj-bHdX6Mp",
        "outputId": "dde2930b-40a5-4875-f765-acacb7cff742"
      },
      "outputs": [
        {
          "output_type": "stream",
          "name": "stdout",
          "text": [
            "[10, 20, 30, 40, 50, 60, 70, 80, 200, 300]\n",
            "[20, 40, 50, 60, 70, 80, 200, 300]\n",
            "[20, 40, 50, 60, 70, 80, 200, 300]\n",
            "[300, 200, 80, 70, 60, 50, 40, 20]\n"
          ]
        }
      ],
      "source": [
        "L = [10, 20, 30, 40, 50, 60, 70, 80]\n",
        "\n",
        "# adding 200 and 300\n",
        "L.extend([200,300])\n",
        "print(L)\n",
        "\n",
        "# removing 10 and 30\n",
        "L.remove(10)\n",
        "L.remove(30)\n",
        "print(L)\n",
        "\n",
        "# sorting in ascending order\n",
        "L.sort()\n",
        "print(L)\n",
        "\n",
        "# sorting in descending order\n",
        "L.sort(reverse=True)\n",
        "print(L)"
      ]
    },
    {
      "cell_type": "markdown",
      "source": [
        "2. Create a tuple of marks scored as scores = (45, 89.5, 76, 45.4, 89, 92, 58, 45) and\n",
        "perform the following operations using tuple functions:\n",
        "i. Identify the highest score and its index in the tuple.\n",
        "ii. Find the lowest score and count how many times it appears.\n",
        "iii. Reverse the tuple and return it as a list.\n",
        "iv. Check if a specific score ‘76’ (input by the user) is present in the tuple and\n",
        "print its first occurrence index, or a message saying it’s not present."
      ],
      "metadata": {
        "id": "hLyYwRQGawnH"
      }
    },
    {
      "cell_type": "code",
      "source": [
        "tuple1 = (45,89.5,76,45.4, 89, 92, 58, 45)\n",
        "\n",
        "# highest score and its index\n",
        "print('Max score=',max(tuple1))\n",
        "print('Index=',tuple1.index(max(tuple1)))\n",
        "\n",
        "# lowest score and its count\n",
        "print('Min score=',min(tuple1))\n",
        "print('Index',tuple1.count(min(tuple1)))\n",
        "\n",
        "#reverse tuple and return it as a list\n",
        "print('List of reversed scores=',list(reversed(tuple1)))\n",
        "\n",
        "#checking for a specific score\n",
        "score = int(input(\"Enter a score: \"))\n",
        "if score in tuple1:\n",
        "    print('Index of score=',tuple1.index(score))\n",
        "else:\n",
        "    print(\"Not present\")"
      ],
      "metadata": {
        "colab": {
          "base_uri": "https://localhost:8080/"
        },
        "id": "VqH9hsm2blSu",
        "outputId": "1f414296-d964-421a-afaf-8c6870a5a67f"
      },
      "execution_count": null,
      "outputs": [
        {
          "output_type": "stream",
          "name": "stdout",
          "text": [
            "Max no.= 92\n",
            "Index= 5\n",
            "Min no.= 45\n",
            "Index 2\n",
            "List= [45, 58, 92, 89, 45.4, 76, 89.5, 45]\n",
            "Enter a score: 76\n",
            "Index= 2\n"
          ]
        }
      ]
    },
    {
      "cell_type": "markdown",
      "source": [
        "3. WAP to create a list of 100 random numbers between 100 and 900. Count and print\n",
        "the:\n",
        "i. All odd numbers\n",
        "ii. All even numbers\n",
        "iii. All prime numbers"
      ],
      "metadata": {
        "id": "mJfuxixrayj8"
      }
    },
    {
      "cell_type": "code",
      "source": [
        "import random\n",
        "random_list = random.sample(range(100,900),100)\n",
        "print(random_list)\n",
        "\n",
        "# odd numbers\n",
        "print('\\nOdd numbers are:')\n",
        "for i in random_list:\n",
        "    if i%2!=0:\n",
        "        print(i,end = ', ')\n",
        "\n",
        "# even numbers\n",
        "print('\\nEven numbers are:')\n",
        "for i in random_list:\n",
        "    if i%2==0:\n",
        "        print(i,end = ', ')\n",
        "# prime numbers\n",
        "print('\\nPrime numbers are:')\n",
        "for i in random_list:\n",
        "    if i>1:\n",
        "        for j in range(2,i):\n",
        "            if i%j==0:\n",
        "                break\n",
        "        else:\n",
        "            print(i,end = ', ')"
      ],
      "metadata": {
        "colab": {
          "base_uri": "https://localhost:8080/"
        },
        "id": "9Sxtd4oUdNls",
        "outputId": "a09db935-d2bb-4387-e663-ed924fdd79d0"
      },
      "execution_count": null,
      "outputs": [
        {
          "output_type": "stream",
          "name": "stdout",
          "text": [
            "[576, 186, 112, 665, 600, 430, 480, 460, 747, 838, 505, 539, 195, 725, 217, 321, 546, 120, 353, 197, 227, 792, 325, 808, 785, 167, 897, 488, 610, 588, 501, 500, 723, 748, 461, 355, 529, 595, 813, 284, 709, 187, 265, 880, 410, 388, 705, 329, 888, 110, 327, 369, 454, 742, 247, 586, 683, 675, 840, 887, 172, 158, 133, 564, 525, 346, 565, 351, 521, 650, 365, 471, 864, 750, 246, 679, 578, 462, 566, 447, 543, 555, 691, 879, 570, 513, 854, 404, 571, 873, 577, 503, 228, 479, 766, 420, 437, 292, 306, 850]\n",
            "\n",
            "Odd numbers are:\n",
            "665, 747, 505, 539, 195, 725, 217, 321, 353, 197, 227, 325, 785, 167, 897, 501, 723, 461, 355, 529, 595, 813, 709, 187, 265, 705, 329, 327, 369, 247, 683, 675, 887, 133, 525, 565, 351, 521, 365, 471, 679, 447, 543, 555, 691, 879, 513, 571, 873, 577, 503, 479, 437, \n",
            "Even numbers are:\n",
            "576, 186, 112, 600, 430, 480, 460, 838, 546, 120, 792, 808, 488, 610, 588, 500, 748, 284, 880, 410, 388, 888, 110, 454, 742, 586, 840, 172, 158, 564, 346, 650, 864, 750, 246, 578, 462, 566, 570, 854, 404, 228, 766, 420, 292, 306, 850, \n",
            "Prime numbers are:\n",
            "353, 197, 227, 167, 461, 709, 683, 887, 521, 691, 571, 577, 503, 479, "
          ]
        }
      ]
    },
    {
      "cell_type": "markdown",
      "source": [
        "4. Consider the following two sets, A and B, representing scores of two teams in multiple\n",
        "matches. A = {34, 56, 78, 90} and B = {78, 45, 90, 23}\n",
        "WAP to perform the following operations using set functions:\n",
        "i. Find the unique scores achieved by both teams (union of sets).\n",
        "ii. Identify the scores that are common to both teams (intersection of sets).\n",
        "iii. Find the scores that are exclusive to each team (symmetric difference).\n",
        "iv. Check if the scores of team A are a subset of team B, and if team B's scores are\n",
        "a superset of team A.\n",
        "v. Remove a specific score X (input by the user) from set A if it exists. If not, print\n",
        "a message saying it is not present."
      ],
      "metadata": {
        "id": "ZH9K1HXsayy1"
      }
    },
    {
      "cell_type": "code",
      "source": [
        "A = {34,56,78,90}\n",
        "B = {78,45,90,23}\n",
        "\n",
        "# i) union of the two sets\n",
        "print('Union of A and B:', A|B)\n",
        "\n",
        "# ii) intersection of the two sets\n",
        "print('Intersection of A and B:', A&B)\n",
        "\n",
        "# iii) symmetric difference\n",
        "print('Symmetric difference:', A-B)\n",
        "\n",
        "# iv) subset and superset\n",
        "print('A is subset of B:',A.issubset(B))\n",
        "print('B is superset of A:',B.issuperset(A))\n",
        "\n",
        "# v) removing a specific score\n",
        "X = int(input(\"Enter a score: \"))\n",
        "if X in A:\n",
        "    A.remove(X)\n",
        "    print(A)\n",
        "else:\n",
        "    print(\"Score not present.\")\n",
        "\n",
        "\n"
      ],
      "metadata": {
        "id": "3J02Sm-Xdn0M",
        "colab": {
          "base_uri": "https://localhost:8080/"
        },
        "outputId": "bc4a4ccd-2ff8-4c5d-9ce7-fd59676e9ce7"
      },
      "execution_count": null,
      "outputs": [
        {
          "output_type": "stream",
          "name": "stdout",
          "text": [
            "Union of A and B: {34, 45, 78, 23, 56, 90}\n",
            "Intersection of A and B: {90, 78}\n",
            "Symmetric difference: {56, 34}\n",
            "A is subset of B: False\n",
            "B is superset of A: False\n",
            "Enter a score: 11\n",
            "Score not present.\n"
          ]
        }
      ]
    },
    {
      "cell_type": "markdown",
      "source": [
        "5. Write a program to rename a key city to a location in the following dictionary![image.png](data:image/png;base64,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)"
      ],
      "metadata": {
        "id": "uhS_BiDHay11"
      }
    },
    {
      "cell_type": "code",
      "source": [
        "sample_dict = {\n",
        "    \"name\": \"Kelly\",\n",
        "    \"age\": 25,\n",
        "    \"salary\": 8000,\n",
        "    \"city\": \"New york\"\n",
        "}\n",
        "sample_dict[\"location\"] = sample_dict.pop(\"city\")\n",
        "print(sample_dict)\n"
      ],
      "metadata": {
        "colab": {
          "base_uri": "https://localhost:8080/"
        },
        "id": "QRZVae3SEY-O",
        "outputId": "52dc30a1-d606-4bee-8b34-d61fb135df74"
      },
      "execution_count": null,
      "outputs": [
        {
          "output_type": "stream",
          "name": "stdout",
          "text": [
            "{'name': 'Kelly', 'age': 25, 'salary': 8000, 'location': 'New york'}\n"
          ]
        }
      ]
    }
  ]
}