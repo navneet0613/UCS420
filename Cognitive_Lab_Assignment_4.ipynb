{
  "nbformat": 4,
  "nbformat_minor": 0,
  "metadata": {
    "colab": {
      "provenance": [],
      "authorship_tag": "ABX9TyMr4tQ6YMOzIvF9Znuz20Ze",
      "include_colab_link": true
    },
    "kernelspec": {
      "name": "python3",
      "display_name": "Python 3"
    },
    "language_info": {
      "name": "python"
    }
  },
  "cells": [
    {
      "cell_type": "markdown",
      "metadata": {
        "id": "view-in-github",
        "colab_type": "text"
      },
      "source": [
        "<a href=\"https://colab.research.google.com/github/navneet0613/UCS420/blob/main/Cognitive_Lab_Assignment_4.ipynb\" target=\"_parent\"><img src=\"https://colab.research.google.com/assets/colab-badge.svg\" alt=\"Open In Colab\"/></a>"
      ]
    },
    {
      "cell_type": "markdown",
      "source": [
        "Submitted by: Navneet Kaur(102497009)"
      ],
      "metadata": {
        "id": "tgqp5MT7fX7_"
      }
    },
    {
      "cell_type": "markdown",
      "source": [
        "Q.1 Write a program to create a NumPy 1D-array with 5 elements and perform basic\n",
        "operations like:\n",
        "\n",
        "a) Addition of 2 in all the element\n",
        "b) Multiply 3 with all the elements\n",
        "c) Divide every element by 2"
      ],
      "metadata": {
        "id": "G3flV4nEfP55"
      }
    },
    {
      "cell_type": "code",
      "execution_count": 3,
      "metadata": {
        "colab": {
          "base_uri": "https://localhost:8080/"
        },
        "id": "QZST47wsezgo",
        "outputId": "3395ba31-fa21-44bb-adfd-655ab7210ba7"
      },
      "outputs": [
        {
          "output_type": "stream",
          "name": "stdout",
          "text": [
            "Original Array: [ 2  4  6  8 10]\n",
            "After addition in the elements: [ 4  6  8 10 12]\n",
            "After multiplication in the elements: [ 6 12 18 24 30]\n",
            "After division in the elements: [1. 2. 3. 4. 5.]\n"
          ]
        }
      ],
      "source": [
        "import numpy as np\n",
        "arr = np.array([2,4,6,8,10])\n",
        "print('Original Array:',arr)\n",
        "arr_add = arr+2                 # addition of all elements with 2\n",
        "print('After addition in the elements:',arr_add)\n",
        "arr_mul = arr*3                # multiplication of all elements with 3\n",
        "print('After multiplication in the elements:',arr_mul)\n",
        "arr_div = arr/2                 # division of all elements with 2\n",
        "print('After division in the elements:',arr_div)"
      ]
    },
    {
      "cell_type": "markdown",
      "source": [
        "Q.2 Questions on Basic NumPy Array:\n",
        "\n",
        "a) Reverse the NumPy array: arr = np.array([1, 2, 3, 6, 4, 5])\n",
        "b) Find the most frequent value and their indice(s) in the following arrays:\n",
        "i. x = np.array([1,2,3,4,5,1,2,1,1,1])\n",
        "ii. y = np.array([1, 1, 1, 2, 3, 4, 2, 4, 3, 3, ])"
      ],
      "metadata": {
        "id": "bSu_BCMcgRdV"
      }
    },
    {
      "cell_type": "code",
      "source": [
        "# a) reverse the numpy array\n",
        "arr1 = np.array([1,2,3,6,4,5])\n",
        "arr2 = np.flip(arr1)\n",
        "print('Reversed Array:',arr2)"
      ],
      "metadata": {
        "colab": {
          "base_uri": "https://localhost:8080/"
        },
        "id": "1d8fLJQ7gQJE",
        "outputId": "7451b0b4-bc18-4436-8719-b474399a6421"
      },
      "execution_count": null,
      "outputs": [
        {
          "output_type": "stream",
          "name": "stdout",
          "text": [
            "Reversed Array: [5 4 6 3 2 1]\n"
          ]
        }
      ]
    },
    {
      "cell_type": "code",
      "source": [
        "# b) finding the most frequent values and their indice(s)\n",
        "x = np.array([1,2,3,4,5,1,2,1,1,1])\n",
        "y = np.array([1,1,1,2,3,4,2,4,3,3])\n",
        "\n",
        "x_frequent = np.bincount(x).argmax()\n",
        "y_frequent = np.bincount(y).argmax()\n",
        "indice_x = np.where(x == x_frequent)[0]\n",
        "indice_y = np.where(y == y_frequent)[0]\n",
        "print(\"The most frequent number in X array:\",x_frequent)\n",
        "print(\"The indices of the most frequent number in X array:\",indice_x)\n",
        "print(\"The most frequent number in Y array:\",y_frequent)\n",
        "print(\"The indices of the most frequent number in Y array:\",indice_y)"
      ],
      "metadata": {
        "id": "VEcv6BaDi1p6",
        "colab": {
          "base_uri": "https://localhost:8080/"
        },
        "outputId": "b498c2d8-f407-4379-ed6f-d57b6aa297a4"
      },
      "execution_count": 9,
      "outputs": [
        {
          "output_type": "stream",
          "name": "stdout",
          "text": [
            "The most frequent number in X array: 1\n",
            "The indices of the most frequent number in X array: [0 5 7 8 9]\n",
            "The most frequent number in Y array: 1\n",
            "The indices of the most frequent number in Y array: [0 1 2]\n"
          ]
        }
      ]
    },
    {
      "cell_type": "markdown",
      "source": [
        "Q.3 For the given 2-D array arr=np.array([10, 20, 30], [40, 50, 60], [70, 80, 90]), access\n",
        "elements using row and column indices as follows:\n",
        "\n",
        "a) Access 1st row, 2nd column\n",
        "\n",
        "b) Access 3rd row, 1st column"
      ],
      "metadata": {
        "id": "KN5WF8QTTbn2"
      }
    },
    {
      "cell_type": "code",
      "source": [
        "arr = np.array([[10,20,30],[40, 50, 60],[70, 80, 90]])\n",
        "print(\"Element at the 1st row, 2nd column:\",arr[0,1])\n",
        "print(\"Element at the 3rd row,1st column:\",arr[2,0])"
      ],
      "metadata": {
        "colab": {
          "base_uri": "https://localhost:8080/"
        },
        "id": "BlHqpNfbTlK3",
        "outputId": "9f5b3bc8-9238-40c2-c693-b10d7032c3ab"
      },
      "execution_count": 15,
      "outputs": [
        {
          "output_type": "stream",
          "name": "stdout",
          "text": [
            "Element at the 1st row, 2nd column: 20\n",
            "Element at the 3rd row,1st column: 70\n"
          ]
        }
      ]
    },
    {
      "cell_type": "markdown",
      "source": [
        "Q.4 Write program to create an 1-D NumPy array named 'your_name' with evenly\n",
        "spaced 25 numbers from 10 to 100 using linspace(). Print the dimensions of the array,\n",
        "shape, total elements, the data type of each element and total number of bytes consumed\n",
        "by the array. Find the transpose of this array using reshape() attribute. Can we do the same\n",
        "with T attribute?"
      ],
      "metadata": {
        "id": "zu7jFIdNUYHw"
      }
    },
    {
      "cell_type": "code",
      "source": [
        "nav = np.linspace(10,100,25)\n",
        "\n",
        "print(\"The array:\",nav)\n",
        "print(\"\\nDimensions of the array:\",nav.ndim)              #dimensions\n",
        "print(\"\\nShape of the array:\",nav.shape)                  #shape\n",
        "print(\"\\nTotal elements of the array:\",nav.size)          #no. of elements\n",
        "print(\"\\nDatatype pf elements:\",nav.dtype)                #datatype\n",
        "print(\"\\nTotal bytes consumed by the array:\",nav.nbytes)\n",
        "\n",
        "# Transpose of the array\n",
        "transpose_nav = nav.reshape(5,5)\n",
        "print(\"\\nTransposed array:\",transpose_nav)\n",
        "\n",
        "# using the T attribute\n",
        "print(\"\\nTranspose using T:\",nav.T)    # Works only for 2-D or higher-dimensional arrays,swapping rows and columns"
      ],
      "metadata": {
        "colab": {
          "base_uri": "https://localhost:8080/"
        },
        "id": "ddPzju4kUWCv",
        "outputId": "66b6eb17-c28d-41a5-e93b-ea8f53afcd86"
      },
      "execution_count": 20,
      "outputs": [
        {
          "output_type": "stream",
          "name": "stdout",
          "text": [
            "The array: [ 10.    13.75  17.5   21.25  25.    28.75  32.5   36.25  40.    43.75\n",
            "  47.5   51.25  55.    58.75  62.5   66.25  70.    73.75  77.5   81.25\n",
            "  85.    88.75  92.5   96.25 100.  ]\n",
            "\n",
            "Dimensions of the array: 1\n",
            "\n",
            "Shape of the array: (25,)\n",
            "\n",
            "Total elements of the array: 25\n",
            "\n",
            "Datatype pf elements: float64\n",
            "\n",
            "Total bytes consumed by the array: 200\n",
            "\n",
            "Transposed array: [[ 10.    13.75  17.5   21.25  25.  ]\n",
            " [ 28.75  32.5   36.25  40.    43.75]\n",
            " [ 47.5   51.25  55.    58.75  62.5 ]\n",
            " [ 66.25  70.    73.75  77.5   81.25]\n",
            " [ 85.    88.75  92.5   96.25 100.  ]]\n",
            "\n",
            "Transpose using T: [ 10.    13.75  17.5   21.25  25.    28.75  32.5   36.25  40.    43.75\n",
            "  47.5   51.25  55.    58.75  62.5   66.25  70.    73.75  77.5   81.25\n",
            "  85.    88.75  92.5   96.25 100.  ]\n"
          ]
        }
      ]
    },
    {
      "cell_type": "markdown",
      "source": [
        "Q5. Create a 2-D Array of three rows and four columns, named ucs420_'your_name'\n",
        "with following values – 10, 20, 30, 40, 50, 60, 70, 80, 90, 15, 20, 35. Compute the mean,\n",
        "median, max, min, unique elements. Reshape the array to four rows and three columns and\n",
        "name it as reshaped_ ucs420_'your_name'. Resize the array to two rows and three\n",
        "columns and name it as resized_ ucs420_'your_name'."
      ],
      "metadata": {
        "id": "NcxqkKW2e4he"
      }
    },
    {
      "cell_type": "code",
      "source": [
        "ucs420_nav = np.array([[10,20,30,40],\n",
        "                       [50,60,70,80],\n",
        "                       [90,15,20,35]])\n",
        "print(\"The array:\",ucs420_nav)\n",
        "\n",
        "mean_value = np.mean(ucs420_nav)\n",
        "median_value = np.median(ucs420_nav)\n",
        "max_value = np.max(ucs420_nav)\n",
        "min_value = np.min(ucs420_nav)\n",
        "unique_elements = np.unique(ucs420_nav)\n",
        "\n",
        "print(\"Mean:\", mean_value)\n",
        "print(\"Median:\", median_value)\n",
        "print(\"Max:\", max_value)\n",
        "print(\"Min:\", min_value)\n",
        "print(\"Unique Elements:\", unique_elements)\n",
        "\n",
        "reshaped_ucs420_nav = ucs420_nav.reshape(4, 3)\n",
        "print(\"\\nReshaped_ucs420_nav:\\n\", reshaped_ucs420_nav)\n",
        "\n",
        "resized_ucs420_nav = np.resize(ucs420_nav, (2, 3))\n",
        "print(\"\\nResized_ucs420_nav:\\n\", resized_ucs420_nav)"
      ],
      "metadata": {
        "colab": {
          "base_uri": "https://localhost:8080/"
        },
        "id": "xavrgcIlfNsh",
        "outputId": "d86e507b-5538-4e9d-91fc-5778a2551af2"
      },
      "execution_count": 23,
      "outputs": [
        {
          "output_type": "stream",
          "name": "stdout",
          "text": [
            "The array: [[10 20 30 40]\n",
            " [50 60 70 80]\n",
            " [90 15 20 35]]\n",
            "Mean: 43.333333333333336\n",
            "Median: 37.5\n",
            "Max: 90\n",
            "Min: 10\n",
            "Unique Elements: [10 15 20 30 35 40 50 60 70 80 90]\n",
            "\n",
            "Reshaped (4x3) Array:\n",
            " [[10 20 30]\n",
            " [40 50 60]\n",
            " [70 80 90]\n",
            " [15 20 35]]\n",
            "\n",
            "Resized (2x3) Array:\n",
            " [[10 20 30]\n",
            " [40 50 60]]\n"
          ]
        }
      ]
    }
  ]
}