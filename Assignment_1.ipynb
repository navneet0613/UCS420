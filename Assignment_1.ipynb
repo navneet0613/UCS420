{
  "nbformat": 4,
  "nbformat_minor": 0,
  "metadata": {
    "colab": {
      "provenance": [],
      "authorship_tag": "ABX9TyPPBRgsm5PnwMNdW8pL+Mas",
      "include_colab_link": true
    },
    "kernelspec": {
      "name": "python3",
      "display_name": "Python 3"
    },
    "language_info": {
      "name": "python"
    }
  },
  "cells": [
    {
      "cell_type": "markdown",
      "metadata": {
        "id": "view-in-github",
        "colab_type": "text"
      },
      "source": [
        "<a href=\"https://colab.research.google.com/github/navneet0613/UCS712/blob/main/Assignment_1.ipynb\" target=\"_parent\"><img src=\"https://colab.research.google.com/assets/colab-badge.svg\" alt=\"Open In Colab\"/></a>"
      ]
    },
    {
      "cell_type": "code",
      "execution_count": 1,
      "metadata": {
        "colab": {
          "base_uri": "https://localhost:8080/"
        },
        "id": "TIwgnsgZVK3t",
        "outputId": "e612e097-c8b6-4116-d49c-aec0fc2422de"
      },
      "outputs": [
        {
          "output_type": "stream",
          "name": "stdout",
          "text": [
            "Navneet Kaur\n",
            "Navneet Kaur\n",
            "Navneet Kaur\n"
          ]
        }
      ],
      "source": [
        "#Print your name 3 times\n",
        "n = 'Navneet Kaur'\n",
        "for i in range(0,3):\n",
        "  print(n)"
      ]
    }
  ]
}