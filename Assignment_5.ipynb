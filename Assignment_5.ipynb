{
  "nbformat": 4,
  "nbformat_minor": 0,
  "metadata": {
    "colab": {
      "provenance": [],
      "authorship_tag": "ABX9TyNmAOlGtqv7+UEmV3DkHPto",
      "include_colab_link": true
    },
    "kernelspec": {
      "name": "python3",
      "display_name": "Python 3"
    },
    "language_info": {
      "name": "python"
    }
  },
  "cells": [
    {
      "cell_type": "markdown",
      "metadata": {
        "id": "view-in-github",
        "colab_type": "text"
      },
      "source": [
        "<a href=\"https://colab.research.google.com/github/navneet0613/UCS712/blob/main/Assignment_5.ipynb\" target=\"_parent\"><img src=\"https://colab.research.google.com/assets/colab-badge.svg\" alt=\"Open In Colab\"/></a>"
      ]
    },
    {
      "cell_type": "markdown",
      "source": [
        "Assignment 5.1: WAP to find max amoung three numbers and input from user. [Try max() function]"
      ],
      "metadata": {
        "id": "HTZHhkNMcOIo"
      }
    },
    {
      "cell_type": "code",
      "execution_count": 3,
      "metadata": {
        "colab": {
          "base_uri": "https://localhost:8080/"
        },
        "id": "UfiFNWpdcLTZ",
        "outputId": "fc05a516-59ac-440b-da41-8ac0964e0a68"
      },
      "outputs": [
        {
          "output_type": "stream",
          "name": "stdout",
          "text": [
            "Enter a number: 4\n",
            "Enter a number: 5\n",
            "Enter a number: 6\n",
            "6 is the maximum number\n"
          ]
        }
      ],
      "source": [
        "#to find max amoung three numbers and input from user. [Try max() function]\n",
        "a = int(input('Enter a number: '))\n",
        "b = int(input('Enter a number: '))\n",
        "c = int(input('Enter a number: '))\n",
        "if a >= b and a >= c:\n",
        "    print(a, \"is the maximum number\")\n",
        "elif b >= a and b >= c:\n",
        "    print(b, \"is the maximum number\")\n",
        "else:\n",
        "    print(c, \"is the maximum number\")"
      ]
    },
    {
      "cell_type": "markdown",
      "source": [
        "Assingment 5.2: WAP to add all numbers divisible by 7 and 9 from 1 to n and n is given by the user."
      ],
      "metadata": {
        "id": "Oko7_8kGeDB3"
      }
    },
    {
      "cell_type": "code",
      "source": [
        "#add all numbers divisible by 7 and 9 from1 to n and n is given by the user\n",
        "n = int(input('Enter a number: '))\n",
        "sum = 0\n",
        "for i in range(1, n+1):\n",
        "    if i % 7 == 0 and i % 9 == 0:\n",
        "        sum += i\n",
        "        print(i)\n",
        "print('Sum of all numbers divisible by 7 and 9 from 1 to', n, 'is', sum)"
      ],
      "metadata": {
        "colab": {
          "base_uri": "https://localhost:8080/"
        },
        "id": "ire0RMP4eJqF",
        "outputId": "4d37a45d-4339-40fb-bf62-58a3976147f2"
      },
      "execution_count": 8,
      "outputs": [
        {
          "output_type": "stream",
          "name": "stdout",
          "text": [
            "Enter a number: 100\n",
            "63\n",
            "Sum of all numbers divisible by 7 and 9 from 1 to 100 is 63\n"
          ]
        }
      ]
    },
    {
      "cell_type": "markdown",
      "source": [
        "Assingment 5.3: WAP to add all prime numbers from 1 to n and n is given by the user."
      ],
      "metadata": {
        "id": "e-H1SNtxeKHO"
      }
    },
    {
      "cell_type": "code",
      "source": [
        "#add all the prime numbers from 1 to n and n is given by the user\n",
        "n = int(input('Enter a number: '))\n",
        "sum = 0\n",
        "for i in range(1, n+1):\n",
        "    if i > 1:\n",
        "        for j in range(2, i):\n",
        "            if i % j == 0:\n",
        "                break\n",
        "        else:\n",
        "            sum += i\n",
        "            print(i)\n",
        "print('Sum of all prime numbers from 1 to', n, 'is', sum)\n"
      ],
      "metadata": {
        "colab": {
          "base_uri": "https://localhost:8080/"
        },
        "id": "vMATxPEQeM6w",
        "outputId": "cae0976d-a906-4ba3-bc89-2ee73b05dc51"
      },
      "execution_count": 9,
      "outputs": [
        {
          "output_type": "stream",
          "name": "stdout",
          "text": [
            "Enter a number: 10\n",
            "2\n",
            "3\n",
            "5\n",
            "7\n",
            "Sum of all prime numbers from 1 to 10 is 17\n"
          ]
        }
      ]
    }
  ]
}